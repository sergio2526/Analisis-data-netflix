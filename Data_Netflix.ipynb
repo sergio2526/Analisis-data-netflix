{
  "nbformat": 4,
  "nbformat_minor": 0,
  "metadata": {
    "colab": {
      "name": "Data-Netflix.ipynb",
      "provenance": [],
      "collapsed_sections": []
    },
    "kernelspec": {
      "name": "python3",
      "display_name": "Python 3"
    }
  },
  "cells": [
    {
      "cell_type": "markdown",
      "metadata": {
        "id": "OpR2vdcIsrSr"
      },
      "source": [
        "# Preguntas a resolver\n",
        "\n",
        "1. ¿ Que usuario a invertido el mayor tiempo ?\n",
        "2. ¿Cuáles episodios o películas son las más vistas por todos los usuarios?\n"
      ]
    },
    {
      "cell_type": "code",
      "metadata": {
        "id": "OAk_RCY_opVX"
      },
      "source": [
        "import pandas as pd\n",
        "import matplotlib.pyplot as plt\n"
      ],
      "execution_count": null,
      "outputs": []
    },
    {
      "cell_type": "code",
      "metadata": {
        "colab": {
          "base_uri": "https://localhost:8080/"
        },
        "id": "UvbmXKEJpfIo",
        "outputId": "cb85d990-3fd8-424a-bfb5-be14b245bcf9"
      },
      "source": [
        "from google.colab import drive\n",
        "drive.mount('/content/drive')"
      ],
      "execution_count": null,
      "outputs": [
        {
          "output_type": "stream",
          "text": [
            "Drive already mounted at /content/drive; to attempt to forcibly remount, call drive.mount(\"/content/drive\", force_remount=True).\n"
          ],
          "name": "stdout"
        }
      ]
    },
    {
      "cell_type": "code",
      "metadata": {
        "colab": {
          "base_uri": "https://localhost:8080/"
        },
        "id": "AVVqjDUIpo8K",
        "outputId": "005f4b52-90fc-42cd-dc84-824912cb00d4"
      },
      "source": [
        "%cd '/content/drive/My Drive/Colab Notebooks/Projects/Netflix/netflix-report/CONTENT_INTERACTION'\n",
        "!ls"
      ],
      "execution_count": null,
      "outputs": [
        {
          "output_type": "stream",
          "text": [
            "/content/drive/My Drive/Colab Notebooks/Projects/Netflix/netflix-report/CONTENT_INTERACTION\n",
            "InteractiveTitles.gsheet  SearchHistory.gsheet\n",
            "MyList.gsheet\t\t  total-episodios-o-peliculas.png\n",
            "netflix-usuarios.png\t  ViewingActivity.csv\n",
            "Ratings.csv\t\t  ViewingActivity.gsheet\n"
          ],
          "name": "stdout"
        }
      ]
    },
    {
      "cell_type": "markdown",
      "metadata": {
        "id": "tGbk9B2XsaBN"
      },
      "source": [
        "# Importando y visualizando la data"
      ]
    },
    {
      "cell_type": "code",
      "metadata": {
        "colab": {
          "base_uri": "https://localhost:8080/",
          "height": 631
        },
        "id": "sxY7qLcFrpDq",
        "outputId": "dbd18fa5-bbc3-43d6-aa35-efaf118b772b"
      },
      "source": [
        "df = pd.read_csv(\"ViewingActivity.csv\")\n",
        "df.head(10)"
      ],
      "execution_count": null,
      "outputs": [
        {
          "output_type": "execute_result",
          "data": {
            "text/html": [
              "<div>\n",
              "<style scoped>\n",
              "    .dataframe tbody tr th:only-of-type {\n",
              "        vertical-align: middle;\n",
              "    }\n",
              "\n",
              "    .dataframe tbody tr th {\n",
              "        vertical-align: top;\n",
              "    }\n",
              "\n",
              "    .dataframe thead th {\n",
              "        text-align: right;\n",
              "    }\n",
              "</style>\n",
              "<table border=\"1\" class=\"dataframe\">\n",
              "  <thead>\n",
              "    <tr style=\"text-align: right;\">\n",
              "      <th></th>\n",
              "      <th>Profile Name</th>\n",
              "      <th>Start Time</th>\n",
              "      <th>Duration</th>\n",
              "      <th>Attributes</th>\n",
              "      <th>Title</th>\n",
              "      <th>Supplemental Video Type</th>\n",
              "      <th>Device Type</th>\n",
              "      <th>Bookmark</th>\n",
              "      <th>Latest Bookmark</th>\n",
              "      <th>Country</th>\n",
              "    </tr>\n",
              "  </thead>\n",
              "  <tbody>\n",
              "    <tr>\n",
              "      <th>0</th>\n",
              "      <td>natalia</td>\n",
              "      <td>2021-02-16 18:15:38</td>\n",
              "      <td>0:03:33</td>\n",
              "      <td>NaN</td>\n",
              "      <td>The Walking Dead: Temporada 3: Enfermo (Capítu...</td>\n",
              "      <td>NaN</td>\n",
              "      <td>DefaultWidevineAndroidPhone</td>\n",
              "      <td>0:06:21</td>\n",
              "      <td>0:06:21</td>\n",
              "      <td>CO (Colombia)</td>\n",
              "    </tr>\n",
              "    <tr>\n",
              "      <th>1</th>\n",
              "      <td>natalia</td>\n",
              "      <td>2021-02-16 18:01:51</td>\n",
              "      <td>0:11:46</td>\n",
              "      <td>NaN</td>\n",
              "      <td>The Walking Dead: Temporada 3: Semilla (Capítu...</td>\n",
              "      <td>NaN</td>\n",
              "      <td>DefaultWidevineAndroidPhone</td>\n",
              "      <td>0:42:28</td>\n",
              "      <td>0:42:28</td>\n",
              "      <td>CO (Colombia)</td>\n",
              "    </tr>\n",
              "    <tr>\n",
              "      <th>2</th>\n",
              "      <td>natalia</td>\n",
              "      <td>2021-02-16 17:04:11</td>\n",
              "      <td>0:31:36</td>\n",
              "      <td>Autoplayed: user action: Unspecified;</td>\n",
              "      <td>La Reina del Sur: Temporada 2: Episodio 7 (Cap...</td>\n",
              "      <td>NaN</td>\n",
              "      <td>TCL ODM Smart TV 2K17 MS6586 Smart TV</td>\n",
              "      <td>0:38:16</td>\n",
              "      <td>0:38:16</td>\n",
              "      <td>CO (Colombia)</td>\n",
              "    </tr>\n",
              "    <tr>\n",
              "      <th>3</th>\n",
              "      <td>natalia</td>\n",
              "      <td>2021-02-16 16:06:39</td>\n",
              "      <td>0:16:28</td>\n",
              "      <td>NaN</td>\n",
              "      <td>100 días para enamorarnos: Temporada 2: Dos co...</td>\n",
              "      <td>NaN</td>\n",
              "      <td>TCL ODM Smart TV 2K17 MS6586 Smart TV</td>\n",
              "      <td>0:17:23</td>\n",
              "      <td>0:17:23</td>\n",
              "      <td>CO (Colombia)</td>\n",
              "    </tr>\n",
              "    <tr>\n",
              "      <th>4</th>\n",
              "      <td>natalia</td>\n",
              "      <td>2021-02-16 15:35:46</td>\n",
              "      <td>0:30:35</td>\n",
              "      <td>Autoplayed: user action: Unspecified;</td>\n",
              "      <td>100 días para enamorarnos: Temporada 2: No te ...</td>\n",
              "      <td>NaN</td>\n",
              "      <td>TCL ODM Smart TV 2K17 MS6586 Smart TV</td>\n",
              "      <td>0:53:04</td>\n",
              "      <td>0:53:04</td>\n",
              "      <td>CO (Colombia)</td>\n",
              "    </tr>\n",
              "    <tr>\n",
              "      <th>5</th>\n",
              "      <td>natalia</td>\n",
              "      <td>2021-02-16 1:28:17</td>\n",
              "      <td>0:13:49</td>\n",
              "      <td>NaN</td>\n",
              "      <td>The Walking Dead: Temporada 3: Semilla (Capítu...</td>\n",
              "      <td>NaN</td>\n",
              "      <td>DefaultWidevineAndroidPhone</td>\n",
              "      <td>0:14:19</td>\n",
              "      <td>Not latest view</td>\n",
              "      <td>CO (Colombia)</td>\n",
              "    </tr>\n",
              "    <tr>\n",
              "      <th>6</th>\n",
              "      <td>natalia</td>\n",
              "      <td>2021-02-16 0:10:02</td>\n",
              "      <td>0:20:07</td>\n",
              "      <td>Autoplayed: user action: Unspecified;</td>\n",
              "      <td>100 días para enamorarnos: Temporada 2: No te ...</td>\n",
              "      <td>NaN</td>\n",
              "      <td>TCL ODM Smart TV 2K17 MS6586 Smart TV</td>\n",
              "      <td>0:21:56</td>\n",
              "      <td>Not latest view</td>\n",
              "      <td>CO (Colombia)</td>\n",
              "    </tr>\n",
              "    <tr>\n",
              "      <th>7</th>\n",
              "      <td>natalia</td>\n",
              "      <td>2021-02-15 22:50:37</td>\n",
              "      <td>0:00:16</td>\n",
              "      <td>NaN</td>\n",
              "      <td>Burn Out</td>\n",
              "      <td>NaN</td>\n",
              "      <td>DefaultWidevineAndroidPhone</td>\n",
              "      <td>0:30:56</td>\n",
              "      <td>0:30:56</td>\n",
              "      <td>CO (Colombia)</td>\n",
              "    </tr>\n",
              "    <tr>\n",
              "      <th>8</th>\n",
              "      <td>natalia</td>\n",
              "      <td>2021-02-15 22:41:45</td>\n",
              "      <td>0:04:59</td>\n",
              "      <td>NaN</td>\n",
              "      <td>Burn Out</td>\n",
              "      <td>NaN</td>\n",
              "      <td>DefaultWidevineAndroidPhone</td>\n",
              "      <td>0:30:45</td>\n",
              "      <td>Not latest view</td>\n",
              "      <td>CO (Colombia)</td>\n",
              "    </tr>\n",
              "    <tr>\n",
              "      <th>9</th>\n",
              "      <td>natalia</td>\n",
              "      <td>2021-02-15 22:32:21</td>\n",
              "      <td>0:00:01</td>\n",
              "      <td>NaN</td>\n",
              "      <td>The Walking Dead: Temporada 3: Semilla (Capítu...</td>\n",
              "      <td>NaN</td>\n",
              "      <td>DefaultWidevineAndroidPhone</td>\n",
              "      <td>0:00:01</td>\n",
              "      <td>Not latest view</td>\n",
              "      <td>CO (Colombia)</td>\n",
              "    </tr>\n",
              "  </tbody>\n",
              "</table>\n",
              "</div>"
            ],
            "text/plain": [
              "  Profile Name           Start Time  ...  Latest Bookmark        Country\n",
              "0      natalia  2021-02-16 18:15:38  ...          0:06:21  CO (Colombia)\n",
              "1      natalia  2021-02-16 18:01:51  ...          0:42:28  CO (Colombia)\n",
              "2      natalia  2021-02-16 17:04:11  ...          0:38:16  CO (Colombia)\n",
              "3      natalia  2021-02-16 16:06:39  ...          0:17:23  CO (Colombia)\n",
              "4      natalia  2021-02-16 15:35:46  ...          0:53:04  CO (Colombia)\n",
              "5      natalia   2021-02-16 1:28:17  ...  Not latest view  CO (Colombia)\n",
              "6      natalia   2021-02-16 0:10:02  ...  Not latest view  CO (Colombia)\n",
              "7      natalia  2021-02-15 22:50:37  ...          0:30:56  CO (Colombia)\n",
              "8      natalia  2021-02-15 22:41:45  ...  Not latest view  CO (Colombia)\n",
              "9      natalia  2021-02-15 22:32:21  ...  Not latest view  CO (Colombia)\n",
              "\n",
              "[10 rows x 10 columns]"
            ]
          },
          "metadata": {
            "tags": []
          },
          "execution_count": 4
        }
      ]
    },
    {
      "cell_type": "markdown",
      "metadata": {
        "id": "FN23uiByup4P"
      },
      "source": [
        "Observamos el tamaño data"
      ]
    },
    {
      "cell_type": "code",
      "metadata": {
        "colab": {
          "base_uri": "https://localhost:8080/"
        },
        "id": "qimjtZ3IsFZL",
        "outputId": "e43a41e5-0b8a-40be-ca71-1c0ac11256ed"
      },
      "source": [
        "df.shape"
      ],
      "execution_count": null,
      "outputs": [
        {
          "output_type": "execute_result",
          "data": {
            "text/plain": [
              "(3800, 10)"
            ]
          },
          "metadata": {
            "tags": []
          },
          "execution_count": 5
        }
      ]
    },
    {
      "cell_type": "code",
      "metadata": {
        "colab": {
          "base_uri": "https://localhost:8080/",
          "height": 224
        },
        "id": "VoY-tFdPtCL3",
        "outputId": "1de38d6b-1399-41e1-a9c9-1d2acd681342"
      },
      "source": [
        "df.describe()"
      ],
      "execution_count": null,
      "outputs": [
        {
          "output_type": "execute_result",
          "data": {
            "text/html": [
              "<div>\n",
              "<style scoped>\n",
              "    .dataframe tbody tr th:only-of-type {\n",
              "        vertical-align: middle;\n",
              "    }\n",
              "\n",
              "    .dataframe tbody tr th {\n",
              "        vertical-align: top;\n",
              "    }\n",
              "\n",
              "    .dataframe thead th {\n",
              "        text-align: right;\n",
              "    }\n",
              "</style>\n",
              "<table border=\"1\" class=\"dataframe\">\n",
              "  <thead>\n",
              "    <tr style=\"text-align: right;\">\n",
              "      <th></th>\n",
              "      <th>Profile Name</th>\n",
              "      <th>Start Time</th>\n",
              "      <th>Duration</th>\n",
              "      <th>Attributes</th>\n",
              "      <th>Title</th>\n",
              "      <th>Supplemental Video Type</th>\n",
              "      <th>Device Type</th>\n",
              "      <th>Bookmark</th>\n",
              "      <th>Latest Bookmark</th>\n",
              "      <th>Country</th>\n",
              "    </tr>\n",
              "  </thead>\n",
              "  <tbody>\n",
              "    <tr>\n",
              "      <th>count</th>\n",
              "      <td>3800</td>\n",
              "      <td>3800</td>\n",
              "      <td>3800</td>\n",
              "      <td>1055</td>\n",
              "      <td>3800</td>\n",
              "      <td>631</td>\n",
              "      <td>3800</td>\n",
              "      <td>3800</td>\n",
              "      <td>3800</td>\n",
              "      <td>3800</td>\n",
              "    </tr>\n",
              "    <tr>\n",
              "      <th>unique</th>\n",
              "      <td>5</td>\n",
              "      <td>3799</td>\n",
              "      <td>1774</td>\n",
              "      <td>3</td>\n",
              "      <td>1876</td>\n",
              "      <td>9</td>\n",
              "      <td>11</td>\n",
              "      <td>1991</td>\n",
              "      <td>1155</td>\n",
              "      <td>2</td>\n",
              "    </tr>\n",
              "    <tr>\n",
              "      <th>top</th>\n",
              "      <td>usuario 5</td>\n",
              "      <td>2021-02-16 16:06:39</td>\n",
              "      <td>0:00:04</td>\n",
              "      <td>Autoplayed: user action: None;</td>\n",
              "      <td>Kong: La isla calavera</td>\n",
              "      <td>HOOK</td>\n",
              "      <td>Android DefaultWidevineL3Phone Android Phone</td>\n",
              "      <td>0:00:04</td>\n",
              "      <td>Not latest view</td>\n",
              "      <td>CO (Colombia)</td>\n",
              "    </tr>\n",
              "    <tr>\n",
              "      <th>freq</th>\n",
              "      <td>1155</td>\n",
              "      <td>2</td>\n",
              "      <td>103</td>\n",
              "      <td>662</td>\n",
              "      <td>16</td>\n",
              "      <td>316</td>\n",
              "      <td>1002</td>\n",
              "      <td>77</td>\n",
              "      <td>1609</td>\n",
              "      <td>3798</td>\n",
              "    </tr>\n",
              "  </tbody>\n",
              "</table>\n",
              "</div>"
            ],
            "text/plain": [
              "       Profile Name           Start Time  ...  Latest Bookmark        Country\n",
              "count          3800                 3800  ...             3800           3800\n",
              "unique            5                 3799  ...             1155              2\n",
              "top       usuario 5  2021-02-16 16:06:39  ...  Not latest view  CO (Colombia)\n",
              "freq           1155                    2  ...             1609           3798\n",
              "\n",
              "[4 rows x 10 columns]"
            ]
          },
          "metadata": {
            "tags": []
          },
          "execution_count": 6
        }
      ]
    },
    {
      "cell_type": "code",
      "metadata": {
        "colab": {
          "base_uri": "https://localhost:8080/"
        },
        "id": "GoT0Th3ovAvE",
        "outputId": "2c4f8ef6-cf31-4df4-b899-acb7ce69b239"
      },
      "source": [
        "df.info()"
      ],
      "execution_count": null,
      "outputs": [
        {
          "output_type": "stream",
          "text": [
            "<class 'pandas.core.frame.DataFrame'>\n",
            "RangeIndex: 3800 entries, 0 to 3799\n",
            "Data columns (total 10 columns):\n",
            " #   Column                   Non-Null Count  Dtype \n",
            "---  ------                   --------------  ----- \n",
            " 0   Profile Name             3800 non-null   object\n",
            " 1   Start Time               3800 non-null   object\n",
            " 2   Duration                 3800 non-null   object\n",
            " 3   Attributes               1055 non-null   object\n",
            " 4   Title                    3800 non-null   object\n",
            " 5   Supplemental Video Type  631 non-null    object\n",
            " 6   Device Type              3800 non-null   object\n",
            " 7   Bookmark                 3800 non-null   object\n",
            " 8   Latest Bookmark          3800 non-null   object\n",
            " 9   Country                  3800 non-null   object\n",
            "dtypes: object(10)\n",
            "memory usage: 297.0+ KB\n"
          ],
          "name": "stdout"
        }
      ]
    },
    {
      "cell_type": "markdown",
      "metadata": {
        "id": "ZeeG1HeIvK8N"
      },
      "source": [
        "cambiando el tipo de variable a los atributos"
      ]
    },
    {
      "cell_type": "code",
      "metadata": {
        "id": "GKDP-oOgvPwd"
      },
      "source": [
        "df['Duration'] = pd.to_timedelta(df['Duration'])"
      ],
      "execution_count": null,
      "outputs": []
    },
    {
      "cell_type": "code",
      "metadata": {
        "colab": {
          "base_uri": "https://localhost:8080/"
        },
        "id": "eRD9nB_Xxsum",
        "outputId": "2bcb159e-50da-429c-f1b5-6281c59a0e96"
      },
      "source": [
        "df.dtypes"
      ],
      "execution_count": null,
      "outputs": [
        {
          "output_type": "execute_result",
          "data": {
            "text/plain": [
              "Profile Name                        object\n",
              "Start Time                          object\n",
              "Duration                   timedelta64[ns]\n",
              "Attributes                          object\n",
              "Title                               object\n",
              "Supplemental Video Type             object\n",
              "Device Type                         object\n",
              "Bookmark                            object\n",
              "Latest Bookmark                     object\n",
              "Country                             object\n",
              "dtype: object"
            ]
          },
          "metadata": {
            "tags": []
          },
          "execution_count": 9
        }
      ]
    },
    {
      "cell_type": "markdown",
      "metadata": {
        "id": "f0xJsdPKuc36"
      },
      "source": [
        "Observamos los usuarios"
      ]
    },
    {
      "cell_type": "code",
      "metadata": {
        "colab": {
          "base_uri": "https://localhost:8080/"
        },
        "id": "ScUFXOeMtSnT",
        "outputId": "a9a96f04-8ee7-4c4f-f5fd-7924327149c5"
      },
      "source": [
        "df['Profile Name'].value_counts()"
      ],
      "execution_count": null,
      "outputs": [
        {
          "output_type": "execute_result",
          "data": {
            "text/plain": [
              "usuario 5                1155\n",
              "sergio                   1046\n",
              "natalia                  1024\n",
              "yimer                     559\n",
              "sergioandresrubiano25      16\n",
              "Name: Profile Name, dtype: int64"
            ]
          },
          "metadata": {
            "tags": []
          },
          "execution_count": 10
        }
      ]
    },
    {
      "cell_type": "markdown",
      "metadata": {
        "id": "0XfwEfJauglU"
      },
      "source": [
        "Remplazamos el nombre del usuario por uno anonimo"
      ]
    },
    {
      "cell_type": "code",
      "metadata": {
        "id": "xqUzaftdtgLs"
      },
      "source": [
        "df['Profile Name'].replace({\"sergio\":'usuario 1','natalia':'usuario 2', 'yimer':'usuario 3','sergioandresrubiano25':'usuario 4'},inplace=True)"
      ],
      "execution_count": null,
      "outputs": []
    },
    {
      "cell_type": "code",
      "metadata": {
        "colab": {
          "base_uri": "https://localhost:8080/"
        },
        "id": "B1zKZkn1uSST",
        "outputId": "54759fb9-dc13-4806-e8ad-2dae082a91c9"
      },
      "source": [
        "df['Profile Name'].value_counts()"
      ],
      "execution_count": null,
      "outputs": [
        {
          "output_type": "execute_result",
          "data": {
            "text/plain": [
              "usuario 5    1155\n",
              "usuario 1    1046\n",
              "usuario 2    1024\n",
              "usuario 3     559\n",
              "usuario 4      16\n",
              "Name: Profile Name, dtype: int64"
            ]
          },
          "metadata": {
            "tags": []
          },
          "execution_count": 12
        }
      ]
    },
    {
      "cell_type": "markdown",
      "metadata": {
        "id": "BBql5PLbu581"
      },
      "source": [
        "1. ¿ Que usuario a invertido el mayor tiempo ?"
      ]
    },
    {
      "cell_type": "code",
      "metadata": {
        "colab": {
          "base_uri": "https://localhost:8080/"
        },
        "id": "3R7LOO_WuY-Q",
        "outputId": "88db7f83-3470-4e00-c756-2c3301f469e3"
      },
      "source": [
        "df['Duration'].head(10)"
      ],
      "execution_count": null,
      "outputs": [
        {
          "output_type": "execute_result",
          "data": {
            "text/plain": [
              "0   0 days 00:03:33\n",
              "1   0 days 00:11:46\n",
              "2   0 days 00:31:36\n",
              "3   0 days 00:16:28\n",
              "4   0 days 00:30:35\n",
              "5   0 days 00:13:49\n",
              "6   0 days 00:20:07\n",
              "7   0 days 00:00:16\n",
              "8   0 days 00:04:59\n",
              "9   0 days 00:00:01\n",
              "Name: Duration, dtype: timedelta64[ns]"
            ]
          },
          "metadata": {
            "tags": []
          },
          "execution_count": 13
        }
      ]
    },
    {
      "cell_type": "markdown",
      "metadata": {
        "id": "qJraahGTyZFG"
      },
      "source": [
        "Filtramos el tiempo mayor a un minuto"
      ]
    },
    {
      "cell_type": "code",
      "metadata": {
        "colab": {
          "base_uri": "https://localhost:8080/"
        },
        "id": "itCPr54-u98W",
        "outputId": "6719e931-c963-4c3a-e37c-42e1aa5aa542"
      },
      "source": [
        "df[(df['Duration'] > '0 days 00:01:00')]\n",
        "df.shape"
      ],
      "execution_count": null,
      "outputs": [
        {
          "output_type": "execute_result",
          "data": {
            "text/plain": [
              "(3800, 10)"
            ]
          },
          "metadata": {
            "tags": []
          },
          "execution_count": 14
        }
      ]
    },
    {
      "cell_type": "markdown",
      "metadata": {
        "id": "sU8yEwBwyukm"
      },
      "source": [
        "En general:"
      ]
    },
    {
      "cell_type": "code",
      "metadata": {
        "colab": {
          "base_uri": "https://localhost:8080/"
        },
        "id": "Pr0x_uKeyP9m",
        "outputId": "25cffa7f-7196-49c6-eaf1-8bdf843bb3ac"
      },
      "source": [
        "df['Duration'].sum()"
      ],
      "execution_count": null,
      "outputs": [
        {
          "output_type": "execute_result",
          "data": {
            "text/plain": [
              "Timedelta('46 days 20:06:15')"
            ]
          },
          "metadata": {
            "tags": []
          },
          "execution_count": 15
        }
      ]
    },
    {
      "cell_type": "markdown",
      "metadata": {
        "id": "ME1ZJiyz63ZI"
      },
      "source": [
        "Tiempo invertido por usuario"
      ]
    },
    {
      "cell_type": "code",
      "metadata": {
        "colab": {
          "base_uri": "https://localhost:8080/"
        },
        "id": "CV1qliy83Y-3",
        "outputId": "f16c31a1-b1f9-44e2-f98e-79ef8aa1b520"
      },
      "source": [
        "usuario_1 = df.loc[df['Profile Name'] == 'usuario 1']\n",
        "duracion_usuario_1 = usuario_1['Duration'].sum()\n",
        "\n",
        "usuario_2 = df.loc[df['Profile Name'] == 'usuario 2']\n",
        "duracion_usuario_2 = usuario_2['Duration'].sum()\n",
        "\n",
        "usuario_3 = df.loc[df['Profile Name'] == 'usuario 3']\n",
        "duracion_usuario_3 = usuario_3['Duration'].sum()\n",
        "\n",
        "usuario_4 = df.loc[df['Profile Name'] == 'usuario 4']\n",
        "duracion_usuario_4 = usuario_4['Duration'].sum()\n",
        "\n",
        "usuario_5 = df.loc[df['Profile Name'] == 'usuario 5']\n",
        "duracion_usuario_5 = usuario_5['Duration'].sum()\n",
        "\n",
        "print(f\"\"\"\n",
        "\n",
        "duracion_usuario_1 = {duracion_usuario_1}\n",
        "duracion_usuario_2 = {duracion_usuario_2}\n",
        "duracion_usuario_3 = {duracion_usuario_3}\n",
        "duracion_usuario_4 = {duracion_usuario_4}\n",
        "duracion_usuario_5 = {duracion_usuario_5}\n",
        "\n",
        "\n",
        "\"\"\")"
      ],
      "execution_count": null,
      "outputs": [
        {
          "output_type": "stream",
          "text": [
            "\n",
            "\n",
            "duracion_usuario_1 = 10 days 04:01:22\n",
            "duracion_usuario_2 = 11 days 20:08:55\n",
            "duracion_usuario_3 = 6 days 20:03:47\n",
            "duracion_usuario_4 = 0 days 01:21:46\n",
            "duracion_usuario_5 = 17 days 22:30:25\n",
            "\n",
            "\n",
            "\n"
          ],
          "name": "stdout"
        }
      ]
    },
    {
      "cell_type": "markdown",
      "metadata": {
        "id": "C0sQEPTaCnKL"
      },
      "source": [
        "semanas"
      ]
    },
    {
      "cell_type": "code",
      "metadata": {
        "colab": {
          "base_uri": "https://localhost:8080/"
        },
        "id": "rvpLchVwCrWA",
        "outputId": "9feb056d-9854-4ade-ce8f-b8b1076f6374"
      },
      "source": [
        "usuario_1['Start Time'] = pd.to_datetime(usuario_1['Start Time'])\n",
        "usuario_1['weekday'] = usuario_1['Start Time'].dt.weekday\n",
        "\n",
        "usuario_2['Start Time'] = pd.to_datetime(usuario_2['Start Time'])\n",
        "usuario_2['weekday'] = usuario_2['Start Time'].dt.weekday\n",
        "\n",
        "usuario_3['Start Time'] = pd.to_datetime(usuario_3['Start Time'])\n",
        "usuario_3['weekday'] = usuario_3['Start Time'].dt.weekday\n",
        "\n",
        "usuario_4['Start Time'] = pd.to_datetime(usuario_4['Start Time'])\n",
        "usuario_4['weekday'] = usuario_4['Start Time'].dt.weekday\n",
        "\n",
        "usuario_5['Start Time'] = pd.to_datetime(usuario_5['Start Time'])\n",
        "usuario_5['weekday'] = usuario_5['Start Time'].dt.weekday\n"
      ],
      "execution_count": null,
      "outputs": [
        {
          "output_type": "stream",
          "text": [
            "/usr/local/lib/python3.7/dist-packages/ipykernel_launcher.py:1: SettingWithCopyWarning: \n",
            "A value is trying to be set on a copy of a slice from a DataFrame.\n",
            "Try using .loc[row_indexer,col_indexer] = value instead\n",
            "\n",
            "See the caveats in the documentation: https://pandas.pydata.org/pandas-docs/stable/user_guide/indexing.html#returning-a-view-versus-a-copy\n",
            "  \"\"\"Entry point for launching an IPython kernel.\n",
            "/usr/local/lib/python3.7/dist-packages/ipykernel_launcher.py:2: SettingWithCopyWarning: \n",
            "A value is trying to be set on a copy of a slice from a DataFrame.\n",
            "Try using .loc[row_indexer,col_indexer] = value instead\n",
            "\n",
            "See the caveats in the documentation: https://pandas.pydata.org/pandas-docs/stable/user_guide/indexing.html#returning-a-view-versus-a-copy\n",
            "  \n",
            "/usr/local/lib/python3.7/dist-packages/ipykernel_launcher.py:4: SettingWithCopyWarning: \n",
            "A value is trying to be set on a copy of a slice from a DataFrame.\n",
            "Try using .loc[row_indexer,col_indexer] = value instead\n",
            "\n",
            "See the caveats in the documentation: https://pandas.pydata.org/pandas-docs/stable/user_guide/indexing.html#returning-a-view-versus-a-copy\n",
            "  after removing the cwd from sys.path.\n",
            "/usr/local/lib/python3.7/dist-packages/ipykernel_launcher.py:5: SettingWithCopyWarning: \n",
            "A value is trying to be set on a copy of a slice from a DataFrame.\n",
            "Try using .loc[row_indexer,col_indexer] = value instead\n",
            "\n",
            "See the caveats in the documentation: https://pandas.pydata.org/pandas-docs/stable/user_guide/indexing.html#returning-a-view-versus-a-copy\n",
            "  \"\"\"\n",
            "/usr/local/lib/python3.7/dist-packages/ipykernel_launcher.py:7: SettingWithCopyWarning: \n",
            "A value is trying to be set on a copy of a slice from a DataFrame.\n",
            "Try using .loc[row_indexer,col_indexer] = value instead\n",
            "\n",
            "See the caveats in the documentation: https://pandas.pydata.org/pandas-docs/stable/user_guide/indexing.html#returning-a-view-versus-a-copy\n",
            "  import sys\n",
            "/usr/local/lib/python3.7/dist-packages/ipykernel_launcher.py:8: SettingWithCopyWarning: \n",
            "A value is trying to be set on a copy of a slice from a DataFrame.\n",
            "Try using .loc[row_indexer,col_indexer] = value instead\n",
            "\n",
            "See the caveats in the documentation: https://pandas.pydata.org/pandas-docs/stable/user_guide/indexing.html#returning-a-view-versus-a-copy\n",
            "  \n",
            "/usr/local/lib/python3.7/dist-packages/ipykernel_launcher.py:10: SettingWithCopyWarning: \n",
            "A value is trying to be set on a copy of a slice from a DataFrame.\n",
            "Try using .loc[row_indexer,col_indexer] = value instead\n",
            "\n",
            "See the caveats in the documentation: https://pandas.pydata.org/pandas-docs/stable/user_guide/indexing.html#returning-a-view-versus-a-copy\n",
            "  # Remove the CWD from sys.path while we load stuff.\n",
            "/usr/local/lib/python3.7/dist-packages/ipykernel_launcher.py:11: SettingWithCopyWarning: \n",
            "A value is trying to be set on a copy of a slice from a DataFrame.\n",
            "Try using .loc[row_indexer,col_indexer] = value instead\n",
            "\n",
            "See the caveats in the documentation: https://pandas.pydata.org/pandas-docs/stable/user_guide/indexing.html#returning-a-view-versus-a-copy\n",
            "  # This is added back by InteractiveShellApp.init_path()\n",
            "/usr/local/lib/python3.7/dist-packages/ipykernel_launcher.py:13: SettingWithCopyWarning: \n",
            "A value is trying to be set on a copy of a slice from a DataFrame.\n",
            "Try using .loc[row_indexer,col_indexer] = value instead\n",
            "\n",
            "See the caveats in the documentation: https://pandas.pydata.org/pandas-docs/stable/user_guide/indexing.html#returning-a-view-versus-a-copy\n",
            "  del sys.path[0]\n",
            "/usr/local/lib/python3.7/dist-packages/ipykernel_launcher.py:14: SettingWithCopyWarning: \n",
            "A value is trying to be set on a copy of a slice from a DataFrame.\n",
            "Try using .loc[row_indexer,col_indexer] = value instead\n",
            "\n",
            "See the caveats in the documentation: https://pandas.pydata.org/pandas-docs/stable/user_guide/indexing.html#returning-a-view-versus-a-copy\n",
            "  \n"
          ],
          "name": "stderr"
        }
      ]
    },
    {
      "cell_type": "code",
      "metadata": {
        "colab": {
          "base_uri": "https://localhost:8080/"
        },
        "id": "UWev95GzzP1W",
        "outputId": "8f03f39a-bd91-430f-a7d3-961b843c391e"
      },
      "source": [
        "usuario_1['weekday'] = pd.Categorical(usuario_1['weekday'], categories=[0,1,2,3,4,5,6],ordered=True)\n",
        "office_by_day_1 = usuario_1['weekday'].value_counts()\n",
        "office_by_day_1 = office_by_day_1.sort_index()\n",
        "\n",
        "usuario_2['weekday'] = pd.Categorical(usuario_2['weekday'], categories=[0,1,2,3,4,5,6],ordered=True)\n",
        "office_by_day_2 = usuario_2['weekday'].value_counts()\n",
        "office_by_day_2 = office_by_day_2.sort_index()\n",
        "\n",
        "usuario_3['weekday'] = pd.Categorical(usuario_3['weekday'], categories=[0,1,2,3,4,5,6],ordered=True)\n",
        "office_by_day_3 = usuario_3['weekday'].value_counts()\n",
        "office_by_day_3 = office_by_day_3.sort_index()\n",
        "\n",
        "usuario_4['weekday'] = pd.Categorical(usuario_4['weekday'], categories=[0,1,2,3,4,5,6],ordered=True)\n",
        "office_by_day_4 = usuario_4['weekday'].value_counts()\n",
        "office_by_day_4 = office_by_day_4.sort_index()\n",
        "\n",
        "usuario_5['weekday'] = pd.Categorical(usuario_5['weekday'], categories=[0,1,2,3,4,5,6],ordered=True)\n",
        "office_by_day_5 = usuario_5['weekday'].value_counts()\n",
        "office_by_day_5 = office_by_day_5.sort_index()\n",
        "\n",
        "\n",
        "\n"
      ],
      "execution_count": null,
      "outputs": [
        {
          "output_type": "stream",
          "text": [
            "/usr/local/lib/python3.7/dist-packages/ipykernel_launcher.py:1: SettingWithCopyWarning: \n",
            "A value is trying to be set on a copy of a slice from a DataFrame.\n",
            "Try using .loc[row_indexer,col_indexer] = value instead\n",
            "\n",
            "See the caveats in the documentation: https://pandas.pydata.org/pandas-docs/stable/user_guide/indexing.html#returning-a-view-versus-a-copy\n",
            "  \"\"\"Entry point for launching an IPython kernel.\n",
            "/usr/local/lib/python3.7/dist-packages/ipykernel_launcher.py:5: SettingWithCopyWarning: \n",
            "A value is trying to be set on a copy of a slice from a DataFrame.\n",
            "Try using .loc[row_indexer,col_indexer] = value instead\n",
            "\n",
            "See the caveats in the documentation: https://pandas.pydata.org/pandas-docs/stable/user_guide/indexing.html#returning-a-view-versus-a-copy\n",
            "  \"\"\"\n",
            "/usr/local/lib/python3.7/dist-packages/ipykernel_launcher.py:9: SettingWithCopyWarning: \n",
            "A value is trying to be set on a copy of a slice from a DataFrame.\n",
            "Try using .loc[row_indexer,col_indexer] = value instead\n",
            "\n",
            "See the caveats in the documentation: https://pandas.pydata.org/pandas-docs/stable/user_guide/indexing.html#returning-a-view-versus-a-copy\n",
            "  if __name__ == '__main__':\n",
            "/usr/local/lib/python3.7/dist-packages/ipykernel_launcher.py:13: SettingWithCopyWarning: \n",
            "A value is trying to be set on a copy of a slice from a DataFrame.\n",
            "Try using .loc[row_indexer,col_indexer] = value instead\n",
            "\n",
            "See the caveats in the documentation: https://pandas.pydata.org/pandas-docs/stable/user_guide/indexing.html#returning-a-view-versus-a-copy\n",
            "  del sys.path[0]\n",
            "/usr/local/lib/python3.7/dist-packages/ipykernel_launcher.py:17: SettingWithCopyWarning: \n",
            "A value is trying to be set on a copy of a slice from a DataFrame.\n",
            "Try using .loc[row_indexer,col_indexer] = value instead\n",
            "\n",
            "See the caveats in the documentation: https://pandas.pydata.org/pandas-docs/stable/user_guide/indexing.html#returning-a-view-versus-a-copy\n"
          ],
          "name": "stderr"
        }
      ]
    },
    {
      "cell_type": "code",
      "metadata": {
        "id": "TWYwLFJoLs5T"
      },
      "source": [
        "#creando DataFrame nuevo.\n",
        "df_usuarios_semanas = pd.DataFrame({f'Usuario 1 = {duracion_usuario_1}':office_by_day_1, f'Usuario 2 = {duracion_usuario_2}':office_by_day_2, \n",
        "                  f'Usuario 3 = {duracion_usuario_3}':office_by_day_3, f'Usuario 4 = {duracion_usuario_4}':office_by_day_4, f'Usuario 5 = {duracion_usuario_5}':office_by_day_5})\n",
        "\n",
        "#cambiando los ejes por el nombre de la semana\n",
        "df_usuarios_semanas = df_usuarios_semanas.rename(index={0: 'Lunes', 1:'Martes', 2:'Miercoles', 3:'Jueves', 4:'Viernes', 5:'Sabado', 6:'Domingo'})"
      ],
      "execution_count": null,
      "outputs": []
    },
    {
      "cell_type": "code",
      "metadata": {
        "colab": {
          "base_uri": "https://localhost:8080/",
          "height": 283
        },
        "id": "0QbSFQGd5avO",
        "outputId": "30d79b52-357f-4622-c4d1-766a843103e4"
      },
      "source": [
        "df_usuarios_semanas"
      ],
      "execution_count": null,
      "outputs": [
        {
          "output_type": "execute_result",
          "data": {
            "text/html": [
              "<div>\n",
              "<style scoped>\n",
              "    .dataframe tbody tr th:only-of-type {\n",
              "        vertical-align: middle;\n",
              "    }\n",
              "\n",
              "    .dataframe tbody tr th {\n",
              "        vertical-align: top;\n",
              "    }\n",
              "\n",
              "    .dataframe thead th {\n",
              "        text-align: right;\n",
              "    }\n",
              "</style>\n",
              "<table border=\"1\" class=\"dataframe\">\n",
              "  <thead>\n",
              "    <tr style=\"text-align: right;\">\n",
              "      <th></th>\n",
              "      <th>Usuario 1 = 10 days 04:01:22</th>\n",
              "      <th>Usuario 2 = 11 days 20:08:55</th>\n",
              "      <th>Usuario 3 = 6 days 20:03:47</th>\n",
              "      <th>Usuario 4 = 0 days 01:21:46</th>\n",
              "      <th>Usuario 5 = 17 days 22:30:25</th>\n",
              "    </tr>\n",
              "  </thead>\n",
              "  <tbody>\n",
              "    <tr>\n",
              "      <th>Lunes</th>\n",
              "      <td>159</td>\n",
              "      <td>156</td>\n",
              "      <td>125</td>\n",
              "      <td>2</td>\n",
              "      <td>199</td>\n",
              "    </tr>\n",
              "    <tr>\n",
              "      <th>Martes</th>\n",
              "      <td>166</td>\n",
              "      <td>137</td>\n",
              "      <td>63</td>\n",
              "      <td>1</td>\n",
              "      <td>167</td>\n",
              "    </tr>\n",
              "    <tr>\n",
              "      <th>Miercoles</th>\n",
              "      <td>135</td>\n",
              "      <td>127</td>\n",
              "      <td>53</td>\n",
              "      <td>5</td>\n",
              "      <td>128</td>\n",
              "    </tr>\n",
              "    <tr>\n",
              "      <th>Jueves</th>\n",
              "      <td>124</td>\n",
              "      <td>161</td>\n",
              "      <td>23</td>\n",
              "      <td>0</td>\n",
              "      <td>144</td>\n",
              "    </tr>\n",
              "    <tr>\n",
              "      <th>Viernes</th>\n",
              "      <td>97</td>\n",
              "      <td>153</td>\n",
              "      <td>38</td>\n",
              "      <td>1</td>\n",
              "      <td>152</td>\n",
              "    </tr>\n",
              "    <tr>\n",
              "      <th>Sabado</th>\n",
              "      <td>155</td>\n",
              "      <td>154</td>\n",
              "      <td>119</td>\n",
              "      <td>1</td>\n",
              "      <td>152</td>\n",
              "    </tr>\n",
              "    <tr>\n",
              "      <th>Domingo</th>\n",
              "      <td>210</td>\n",
              "      <td>136</td>\n",
              "      <td>138</td>\n",
              "      <td>6</td>\n",
              "      <td>213</td>\n",
              "    </tr>\n",
              "  </tbody>\n",
              "</table>\n",
              "</div>"
            ],
            "text/plain": [
              "           Usuario 1 = 10 days 04:01:22  ...  Usuario 5 = 17 days 22:30:25\n",
              "Lunes                               159  ...                           199\n",
              "Martes                              166  ...                           167\n",
              "Miercoles                           135  ...                           128\n",
              "Jueves                              124  ...                           144\n",
              "Viernes                              97  ...                           152\n",
              "Sabado                              155  ...                           152\n",
              "Domingo                             210  ...                           213\n",
              "\n",
              "[7 rows x 5 columns]"
            ]
          },
          "metadata": {
            "tags": []
          },
          "execution_count": 20
        }
      ]
    },
    {
      "cell_type": "markdown",
      "metadata": {
        "id": "DRNDtEAFTPyz"
      },
      "source": [
        "## Generando grafico"
      ]
    },
    {
      "cell_type": "code",
      "metadata": {
        "colab": {
          "base_uri": "https://localhost:8080/",
          "height": 647
        },
        "id": "j6npzJWBL0Js",
        "outputId": "26dbe35d-2ea1-40a9-ff5c-8590d2087255"
      },
      "source": [
        "df_usuarios_semanas.plot(kind = 'bar', figsize=(10,10))\n",
        "plt.title('Tiempo invertido por usuario')\n",
        "plt.xlabel(\"Dias de la semana\")\n",
        "plt.ylabel(\"Numero de episodios\")\n",
        "plt.xticks(rotation=35)\n",
        "plt.savefig('netflix-usuarios.png')\n",
        "\n"
      ],
      "execution_count": null,
      "outputs": [
        {
          "output_type": "display_data",
          "data": {
            "image/png": "[encoded data removed]",
            "text/plain": [
              "<Figure size 720x720 with 1 Axes>"
            ]
          },
          "metadata": {
            "tags": [],
            "needs_background": "light"
          }
        }
      ]
    },
    {
      "cell_type": "markdown",
      "metadata": {
        "id": "Wjg5KfPdUEQH"
      },
      "source": [
        "## Episodios o peliculas más vistas por todos los usuarios (en general)"
      ]
    },
    {
      "cell_type": "code",
      "metadata": {
        "colab": {
          "base_uri": "https://localhost:8080/",
          "height": 621
        },
        "id": "H7XJr5UTUFg2",
        "outputId": "526dc4d0-d74e-4a08-dc52-cfcd328ec7d4"
      },
      "source": [
        "ax = df['Title'].value_counts().head(10).plot(kind = 'barh', figsize=(10,10), color='red')\n",
        "plt.title('Episodios o peliculas más vistas por todos los usuarios (en general)')\n",
        "plt.xlabel('Total de episodios o peliculas')\n",
        "plt.savefig('total-episodios-o-peliculas.png')\n",
        "ax.invert_yaxis()"
      ],
      "execution_count": null,
      "outputs": [
        {
          "output_type": "display_data",
          "data": {
            "image/png": "[encoded data removed]",
            "text/plain": [
              "<Figure size 720x720 with 1 Axes>"
            ]
          },
          "metadata": {
            "tags": [],
            "needs_background": "light"
          }
        }
      ]
    },
    {
      "cell_type": "code",
      "metadata": {
        "colab": {
          "base_uri": "https://localhost:8080/",
          "height": 621
        },
        "id": "XCijlbKIbx3r",
        "outputId": "10d855d7-f369-4b19-c74f-5617079e3620"
      },
      "source": [
        "ax = usuario_5['Title'].value_counts().head(10).plot(kind = 'barh', figsize=(10,10), color='orange')\n",
        "plt.title('Episodios o peliculas más vistas por el usuario numero 5')\n",
        "plt.xlabel('Total de episodios o peliculas')\n",
        "plt.savefig('usuario5-episodios-o-peliculas.png')\n",
        "ax.invert_yaxis()"
      ],
      "execution_count": null,
      "outputs": [
        {
          "output_type": "display_data",
          "data": {
            "image/png": "[encoded data removed]",
            "text/plain": [
              "<Figure size 720x720 with 1 Axes>"
            ]
          },
          "metadata": {
            "tags": [],
            "needs_background": "light"
          }
        }
      ]
    },
    {
      "cell_type": "code",
      "metadata": {
        "id": "xm_8b1p1c6AV"
      },
      "source": [
        ""
      ],
      "execution_count": null,
      "outputs": []
    }
  ]
}